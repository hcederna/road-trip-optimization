{
 "cells": [
  {
   "cell_type": "markdown",
   "metadata": {},
   "source": [
    "# Enter Trip Information"
   ]
  },
  {
   "cell_type": "code",
   "execution_count": 1,
   "metadata": {},
   "outputs": [],
   "source": [
    "%load_ext autoreload\n",
    "%autoreload 2"
   ]
  },
  {
   "cell_type": "code",
   "execution_count": 2,
   "metadata": {},
   "outputs": [],
   "source": [
    "# Enter a trip name (a unique identifier for the specified points of interest)\n",
    "TRIP_NAME = \"east\"\n",
    "\n",
    "# Enter your points of interest in the list below (include your starting location)\n",
    "MY_POINTS_OF_INTEREST = [\n",
    "    \"San Francisco, California\", # Starting Location\n",
    "    \"Yosemite Valley Visitor Center, Village Drive, Yosemite Valley, CA\", # Yosemite NP\n",
    "    \"D L Bliss State Park, California 89, South Lake Tahoe, CA\", # Lake Tahoe\n",
    "    \"Zion National Park Visitor Center, Zion – Mount Carmel Highway, Hurricane, UT\", # Zion NP\n",
    "    \"Arches National Park Visitor Center, Moab, UT\", # Arches NP\n",
    "    \"Monument Valley Navajo Tribal Park, Main Monument Valley Road, Oljato-Monument Valley, AZ\", # Monument Valley\n",
    "    \"Island in the Sky Visitor Center, Grand View Point Road, Moab, UT\", # Canyonlands NP\n",
    "    \"Bryce Canyon National Park Visitor Center, Utah 63, Bryce, UT\", # Bryce Canyon NP\n",
    "    \"Moro Rock Trail, California\", # Sequoia NP\n",
    "    \"Horseshoe Bend Parking Lot, Page, AZ\", # Horseshoe Bend Trail\n",
    "    \"Grand Canyon Visitor Center, South Entrance Road, Grand Canyon Village, AZ\", # Grand Canyon NP\n",
    "    \"Calf Creek Campground, Boulder, UT\", # Grand Staircase-Escalante NM\n",
    "    \"Red Cliffs Recreation Area, Unnamed Road, Washington, UT\", # Red Cliffs Recreation Nature Trail\n",
    "    \"Natural Bridges Visitor Center, Natural Bridge, Lake Powell, UT\", # Natural Bridges NM\n",
    "    \"Kanarra Creek Trailhead, Kanarraville, UT\", # Kanarra Creek Canyon Trail\n",
    "    \"San Simeon, CA\", # South Big Sur Drive\n",
    "    \"Big Sur, CA\", # Middle Big Sur Drive\n",
    "    \"Carmel-by-the-Sea, CA\", # North Big Sur Drive\n",
    "    \"Castle Rock Entrance Station Parking Lot, Unnamed Road, Saratoga, CA\", # Saratoga Gap Trail\n",
    "]"
   ]
  },
  {
   "cell_type": "markdown",
   "metadata": {},
   "source": [
    "# Collect Driving Distance/Duration Information"
   ]
  },
  {
   "cell_type": "code",
   "execution_count": 3,
   "metadata": {},
   "outputs": [
    {
     "data": {
      "text/html": [
       "<div>\n",
       "<style scoped>\n",
       "    .dataframe tbody tr th:only-of-type {\n",
       "        vertical-align: middle;\n",
       "    }\n",
       "\n",
       "    .dataframe tbody tr th {\n",
       "        vertical-align: top;\n",
       "    }\n",
       "\n",
       "    .dataframe thead th {\n",
       "        text-align: right;\n",
       "    }\n",
       "</style>\n",
       "<table border=\"1\" class=\"dataframe\">\n",
       "  <thead>\n",
       "    <tr style=\"text-align: right;\">\n",
       "      <th></th>\n",
       "      <th>Venue 1</th>\n",
       "      <th>Venue 2</th>\n",
       "      <th>Distance (mi)</th>\n",
       "      <th>Duration (s)</th>\n",
       "      <th>Duration (hhmm)</th>\n",
       "    </tr>\n",
       "  </thead>\n",
       "  <tbody>\n",
       "    <tr>\n",
       "      <th>3</th>\n",
       "      <td>San Francisco, California</td>\n",
       "      <td>Arches National Park Visitor Center, Moab, UT</td>\n",
       "      <td>963</td>\n",
       "      <td>51219</td>\n",
       "      <td>14:13</td>\n",
       "    </tr>\n",
       "    <tr>\n",
       "      <th>4</th>\n",
       "      <td>San Francisco, California</td>\n",
       "      <td>Monument Valley Navajo Tribal Park, Main Monum...</td>\n",
       "      <td>941</td>\n",
       "      <td>52195</td>\n",
       "      <td>14:29</td>\n",
       "    </tr>\n",
       "    <tr>\n",
       "      <th>2</th>\n",
       "      <td>San Francisco, California</td>\n",
       "      <td>Zion National Park Visitor Center, Zion – Moun...</td>\n",
       "      <td>727</td>\n",
       "      <td>40019</td>\n",
       "      <td>11:06</td>\n",
       "    </tr>\n",
       "    <tr>\n",
       "      <th>1</th>\n",
       "      <td>San Francisco, California</td>\n",
       "      <td>D L Bliss State Park, California 89, South Lak...</td>\n",
       "      <td>197</td>\n",
       "      <td>12542</td>\n",
       "      <td>3:29</td>\n",
       "    </tr>\n",
       "    <tr>\n",
       "      <th>0</th>\n",
       "      <td>San Francisco, California</td>\n",
       "      <td>Yosemite Valley Visitor Center, Village Drive,...</td>\n",
       "      <td>191</td>\n",
       "      <td>14181</td>\n",
       "      <td>3:56</td>\n",
       "    </tr>\n",
       "  </tbody>\n",
       "</table>\n",
       "</div>"
      ],
      "text/plain": [
       "                     Venue 1  \\\n",
       "3  San Francisco, California   \n",
       "4  San Francisco, California   \n",
       "2  San Francisco, California   \n",
       "1  San Francisco, California   \n",
       "0  San Francisco, California   \n",
       "\n",
       "                                             Venue 2  Distance (mi)  \\\n",
       "3      Arches National Park Visitor Center, Moab, UT            963   \n",
       "4  Monument Valley Navajo Tribal Park, Main Monum...            941   \n",
       "2  Zion National Park Visitor Center, Zion – Moun...            727   \n",
       "1  D L Bliss State Park, California 89, South Lak...            197   \n",
       "0  Yosemite Valley Visitor Center, Village Drive,...            191   \n",
       "\n",
       "   Duration (s) Duration (hhmm)  \n",
       "3         51219           14:13  \n",
       "4         52195           14:29  \n",
       "2         40019           11:06  \n",
       "1         12542            3:29  \n",
       "0         14181            3:56  "
      ]
     },
     "execution_count": 3,
     "metadata": {},
     "output_type": "execute_result"
    }
   ],
   "source": [
    "from src.data_collection import *\n",
    "from config import GOOGLE_MAPS_API_KEY\n",
    "\n",
    "\n",
    "# Determine distance and duration filename based on specified trip name\n",
    "distance_duration_filename = \"data/my_{}_points_of_interest_distance_duration.csv\".format(TRIP_NAME)\n",
    "\n",
    "# Try to create a distance and duration df containing all my points of interest from the filename\n",
    "try:\n",
    "    \n",
    "    distance_duration_df = pd.read_csv(distance_duration_filename, index_col=0)\n",
    "\n",
    "    # Create list of unique points of interest from df\n",
    "    df_points_of_interest = set(pd.unique(distance_duration_df[['Venue 1', 'Venue 2']].values.ravel('K')))\n",
    "\n",
    "    # Check if missing one or more of my points of interest in df\n",
    "    if not set(MY_POINTS_OF_INTEREST).issubset(df_points_of_interest):\n",
    "        \n",
    "        raise Exception(\"Missing one or more of my points of interest in '{}'\".format(distance_duration_filename))\n",
    "\n",
    "# Create a distance and duration df with all my points of interest and save to the specified filename\n",
    "except (FileNotFoundError, Exception) as e:\n",
    "        \n",
    "    # Query Google Maps API for one-way driving distances and durations\n",
    "    distance_duration_data = query_gmaps_api_for_one_way_driving_distance_and_duration(MY_POINTS_OF_INTEREST, GOOGLE_MAPS_API_KEY)\n",
    "\n",
    "    # Create DataFrame of one-way distances and durations\n",
    "    distance_duration_df = create_distance_and_duration_df(distance_duration_data)\n",
    "\n",
    "    # Save DataFrame to CSV\n",
    "    distance_duration_df.to_csv(distance_duration_filename)\n",
    "    \n",
    "# Preview distance and duration df\n",
    "distance_duration_df.head().sort_values('Distance (mi)', ascending=False)"
   ]
  },
  {
   "cell_type": "markdown",
   "metadata": {},
   "source": [
    "## *Optional : Display Full Name Squareform Distance/Duration Matrices*"
   ]
  },
  {
   "cell_type": "code",
   "execution_count": 3,
   "metadata": {},
   "outputs": [],
   "source": [
    "# Add reverse travel information (B to A not just A to B) to distance and duration df\n",
    "_df = add_reverse_travel_information_to_distance_duration_df(distance_duration_df)\n",
    "\n",
    "# Create squareform matrices\n",
    "distance_matrix = _df.pivot(index='Venue 1', columns='Venue 2', values='Distance (mi)').fillna(0).astype(int)\n",
    "duration_matrix = _df.pivot(index='Venue 1', columns='Venue 2', values='Duration (s)').fillna(0).astype(int)\n",
    "duration_matrix_hhmm = _df.pivot(index='Venue 1', columns='Venue 2', values='Duration (hhmm)').fillna(\"0:00\")"
   ]
  },
  {
   "cell_type": "code",
   "execution_count": null,
   "metadata": {},
   "outputs": [],
   "source": [
    "# # Display distance matrix\n",
    "# display(distance_matrix)"
   ]
  },
  {
   "cell_type": "code",
   "execution_count": null,
   "metadata": {},
   "outputs": [],
   "source": [
    "# # Display duration matrix\n",
    "# display(duration_matrix)"
   ]
  },
  {
   "cell_type": "code",
   "execution_count": null,
   "metadata": {},
   "outputs": [],
   "source": [
    "# Display duration hhmm matrix\n",
    "display(duration_matrix_hhmm)"
   ]
  },
  {
   "cell_type": "markdown",
   "metadata": {},
   "source": [
    "## *Optional : Display Integer Name Squareform Distance/Duration Matrices*"
   ]
  },
  {
   "cell_type": "code",
   "execution_count": 4,
   "metadata": {},
   "outputs": [],
   "source": [
    "# Add reverse travel information (B to A not just A to B) to distance and duration df\n",
    "_df = add_reverse_travel_information_to_distance_duration_df(distance_duration_df)\n",
    "\n",
    "# Convert venue columns to categorical type and create categorical code columns\n",
    "_df['Venue 1'] = _df['Venue 1'].astype('category')\n",
    "_df['Venue 1 Codes'] = _df['Venue 1'].cat.codes\n",
    "_df['Venue 2'] = pd.Categorical(_df['Venue 2'], categories=_df['Venue 1'].cat.categories)\n",
    "_df['Venue 2 Codes'] = _df['Venue 2'].cat.codes\n",
    "\n",
    "# Create squareform matrices with codes\n",
    "distance_matrix = _df.pivot(index='Venue 1 Codes', columns='Venue 2 Codes', values='Distance (mi)').fillna(0).astype(int)\n",
    "duration_matrix = _df.pivot(index='Venue 1 Codes', columns='Venue 2 Codes', values='Duration (s)').fillna(0).astype(int)\n",
    "duration_matrix_hhmm = _df.pivot(index='Venue 1 Codes', columns='Venue 2 Codes', values='Duration (hhmm)').fillna(\"0:00\")"
   ]
  },
  {
   "cell_type": "code",
   "execution_count": null,
   "metadata": {},
   "outputs": [],
   "source": [
    "# # Preview new columns\n",
    "# _df.sample(5)"
   ]
  },
  {
   "cell_type": "code",
   "execution_count": null,
   "metadata": {},
   "outputs": [],
   "source": [
    "# # Display distance matrix with code mappings\n",
    "# display(distance_matrix)\n",
    "\n",
    "# # Print dict of code: cat mappings for reference\n",
    "# _ = dict(enumerate(_df['Venue 1'].cat.categories))\n",
    "# for k, v in _.items():\n",
    "#     print(k, \":\", v)"
   ]
  },
  {
   "cell_type": "code",
   "execution_count": null,
   "metadata": {},
   "outputs": [],
   "source": [
    "# # Display duration matrix with code mappings\n",
    "# display(duration_matrix)\n",
    "\n",
    "# # Print dict of code: cat mappings for reference\n",
    "# _ = dict(enumerate(_df['Venue 1'].cat.categories))\n",
    "# for k, v in _.items():\n",
    "#     print(k, \":\", v)"
   ]
  },
  {
   "cell_type": "code",
   "execution_count": null,
   "metadata": {},
   "outputs": [],
   "source": [
    "# Display duration matrix hhmm with code mappings\n",
    "display(duration_matrix_hhmm)\n",
    "\n",
    "# Print dict of code: cat mappings for reference\n",
    "_ = dict(enumerate(_df['Venue 1'].cat.categories))\n",
    "for k, v in _.items():\n",
    "    print(k, \":\", v)"
   ]
  },
  {
   "cell_type": "markdown",
   "metadata": {},
   "source": [
    "# Optimize Road Trip via Genetic Algorithm"
   ]
  },
  {
   "cell_type": "markdown",
   "metadata": {},
   "source": [
    "Thank you to [Randal S. Olson](http://www.randalolson.com/) for the genetic algorithm code below (sourced from [this notebook](https://github.com/rhiever/Data-Analysis-and-Machine-Learning-Projects/blob/master/optimal-road-trip/Computing%20the%20optimal%20road%20trip%20across%20the%20U.S..ipynb) and further explained in [this blog post](http://www.randalolson.com/2015/03/08/computing-the-optimal-road-trip-across-the-u-s/)). All the credit for the code goes to him with a few minor adjustments made by me."
   ]
  },
  {
   "cell_type": "code",
   "execution_count": 11,
   "metadata": {
    "scrolled": true
   },
   "outputs": [
    {
     "name": "stdout",
     "output_type": "stream",
     "text": [
      "Generation 0 best: 6789 | Unique genomes: 100\n",
      "('Red Cliffs Recreation Area, Unnamed Road, Washington, UT', 'Zion National Park Visitor Center, Zion – Mount Carmel Highway, Hurricane, UT', 'Monument Valley Navajo Tribal Park, Main Monument Valley Road, Oljato-Monument Valley, AZ', 'Carmel-by-the-Sea, CA', 'Big Sur, CA', 'San Francisco, California', 'Moro Rock Trail, California', 'San Simeon, CA', 'Yosemite Valley Visitor Center, Village Drive, Yosemite Valley, CA', 'Horseshoe Bend Parking Lot, Page, AZ', 'D L Bliss State Park, California 89, South Lake Tahoe, CA', 'Arches National Park Visitor Center, Moab, UT', 'Natural Bridges Visitor Center, Natural Bridge, Lake Powell, UT', 'Grand Canyon Visitor Center, South Entrance Road, Grand Canyon Village, AZ', 'Island in the Sky Visitor Center, Grand View Point Road, Moab, UT', 'Bryce Canyon National Park Visitor Center, Utah 63, Bryce, UT', 'Calf Creek Campground, Boulder, UT', 'Kanarra Creek Trailhead, Kanarraville, UT', 'Castle Rock Entrance Station Parking Lot, Unnamed Road, Saratoga, CA')\n",
      "\n",
      "Generation 500 best: 2915 | Unique genomes: 80\n",
      "('Moro Rock Trail, California', 'Grand Canyon Visitor Center, South Entrance Road, Grand Canyon Village, AZ', 'Horseshoe Bend Parking Lot, Page, AZ', 'Monument Valley Navajo Tribal Park, Main Monument Valley Road, Oljato-Monument Valley, AZ', 'Natural Bridges Visitor Center, Natural Bridge, Lake Powell, UT', 'Arches National Park Visitor Center, Moab, UT', 'Island in the Sky Visitor Center, Grand View Point Road, Moab, UT', 'Calf Creek Campground, Boulder, UT', 'Bryce Canyon National Park Visitor Center, Utah 63, Bryce, UT', 'Zion National Park Visitor Center, Zion – Mount Carmel Highway, Hurricane, UT', 'Kanarra Creek Trailhead, Kanarraville, UT', 'Red Cliffs Recreation Area, Unnamed Road, Washington, UT', 'San Simeon, CA', 'Big Sur, CA', 'Carmel-by-the-Sea, CA', 'Castle Rock Entrance Station Parking Lot, Unnamed Road, Saratoga, CA', 'San Francisco, California', 'D L Bliss State Park, California 89, South Lake Tahoe, CA', 'Yosemite Valley Visitor Center, Village Drive, Yosemite Valley, CA')\n",
      "\n",
      "Generation 1000 best: 2915 | Unique genomes: 82\n",
      "('Moro Rock Trail, California', 'Grand Canyon Visitor Center, South Entrance Road, Grand Canyon Village, AZ', 'Horseshoe Bend Parking Lot, Page, AZ', 'Monument Valley Navajo Tribal Park, Main Monument Valley Road, Oljato-Monument Valley, AZ', 'Natural Bridges Visitor Center, Natural Bridge, Lake Powell, UT', 'Arches National Park Visitor Center, Moab, UT', 'Island in the Sky Visitor Center, Grand View Point Road, Moab, UT', 'Calf Creek Campground, Boulder, UT', 'Bryce Canyon National Park Visitor Center, Utah 63, Bryce, UT', 'Zion National Park Visitor Center, Zion – Mount Carmel Highway, Hurricane, UT', 'Kanarra Creek Trailhead, Kanarraville, UT', 'Red Cliffs Recreation Area, Unnamed Road, Washington, UT', 'San Simeon, CA', 'Big Sur, CA', 'Carmel-by-the-Sea, CA', 'Castle Rock Entrance Station Parking Lot, Unnamed Road, Saratoga, CA', 'San Francisco, California', 'D L Bliss State Park, California 89, South Lake Tahoe, CA', 'Yosemite Valley Visitor Center, Village Drive, Yosemite Valley, CA')\n",
      "\n",
      "Generation 1500 best: 2915 | Unique genomes: 86\n",
      "('Moro Rock Trail, California', 'Grand Canyon Visitor Center, South Entrance Road, Grand Canyon Village, AZ', 'Horseshoe Bend Parking Lot, Page, AZ', 'Monument Valley Navajo Tribal Park, Main Monument Valley Road, Oljato-Monument Valley, AZ', 'Natural Bridges Visitor Center, Natural Bridge, Lake Powell, UT', 'Arches National Park Visitor Center, Moab, UT', 'Island in the Sky Visitor Center, Grand View Point Road, Moab, UT', 'Calf Creek Campground, Boulder, UT', 'Bryce Canyon National Park Visitor Center, Utah 63, Bryce, UT', 'Zion National Park Visitor Center, Zion – Mount Carmel Highway, Hurricane, UT', 'Kanarra Creek Trailhead, Kanarraville, UT', 'Red Cliffs Recreation Area, Unnamed Road, Washington, UT', 'San Simeon, CA', 'Big Sur, CA', 'Carmel-by-the-Sea, CA', 'Castle Rock Entrance Station Parking Lot, Unnamed Road, Saratoga, CA', 'San Francisco, California', 'D L Bliss State Park, California 89, South Lake Tahoe, CA', 'Yosemite Valley Visitor Center, Village Drive, Yosemite Valley, CA')\n",
      "\n",
      "Generation 2000 best: 2915 | Unique genomes: 80\n",
      "('Moro Rock Trail, California', 'Grand Canyon Visitor Center, South Entrance Road, Grand Canyon Village, AZ', 'Horseshoe Bend Parking Lot, Page, AZ', 'Monument Valley Navajo Tribal Park, Main Monument Valley Road, Oljato-Monument Valley, AZ', 'Natural Bridges Visitor Center, Natural Bridge, Lake Powell, UT', 'Arches National Park Visitor Center, Moab, UT', 'Island in the Sky Visitor Center, Grand View Point Road, Moab, UT', 'Calf Creek Campground, Boulder, UT', 'Bryce Canyon National Park Visitor Center, Utah 63, Bryce, UT', 'Zion National Park Visitor Center, Zion – Mount Carmel Highway, Hurricane, UT', 'Kanarra Creek Trailhead, Kanarraville, UT', 'Red Cliffs Recreation Area, Unnamed Road, Washington, UT', 'San Simeon, CA', 'Big Sur, CA', 'Carmel-by-the-Sea, CA', 'Castle Rock Entrance Station Parking Lot, Unnamed Road, Saratoga, CA', 'San Francisco, California', 'D L Bliss State Park, California 89, South Lake Tahoe, CA', 'Yosemite Valley Visitor Center, Village Drive, Yosemite Valley, CA')\n",
      "\n",
      "Generation 2500 best: 2915 | Unique genomes: 86\n",
      "('Moro Rock Trail, California', 'Grand Canyon Visitor Center, South Entrance Road, Grand Canyon Village, AZ', 'Horseshoe Bend Parking Lot, Page, AZ', 'Monument Valley Navajo Tribal Park, Main Monument Valley Road, Oljato-Monument Valley, AZ', 'Natural Bridges Visitor Center, Natural Bridge, Lake Powell, UT', 'Arches National Park Visitor Center, Moab, UT', 'Island in the Sky Visitor Center, Grand View Point Road, Moab, UT', 'Calf Creek Campground, Boulder, UT', 'Bryce Canyon National Park Visitor Center, Utah 63, Bryce, UT', 'Zion National Park Visitor Center, Zion – Mount Carmel Highway, Hurricane, UT', 'Kanarra Creek Trailhead, Kanarraville, UT', 'Red Cliffs Recreation Area, Unnamed Road, Washington, UT', 'San Simeon, CA', 'Big Sur, CA', 'Carmel-by-the-Sea, CA', 'Castle Rock Entrance Station Parking Lot, Unnamed Road, Saratoga, CA', 'San Francisco, California', 'D L Bliss State Park, California 89, South Lake Tahoe, CA', 'Yosemite Valley Visitor Center, Village Drive, Yosemite Valley, CA')\n",
      "\n",
      "Generation 3000 best: 2915 | Unique genomes: 82\n",
      "('Moro Rock Trail, California', 'Grand Canyon Visitor Center, South Entrance Road, Grand Canyon Village, AZ', 'Horseshoe Bend Parking Lot, Page, AZ', 'Monument Valley Navajo Tribal Park, Main Monument Valley Road, Oljato-Monument Valley, AZ', 'Natural Bridges Visitor Center, Natural Bridge, Lake Powell, UT', 'Arches National Park Visitor Center, Moab, UT', 'Island in the Sky Visitor Center, Grand View Point Road, Moab, UT', 'Calf Creek Campground, Boulder, UT', 'Bryce Canyon National Park Visitor Center, Utah 63, Bryce, UT', 'Zion National Park Visitor Center, Zion – Mount Carmel Highway, Hurricane, UT', 'Kanarra Creek Trailhead, Kanarraville, UT', 'Red Cliffs Recreation Area, Unnamed Road, Washington, UT', 'San Simeon, CA', 'Big Sur, CA', 'Carmel-by-the-Sea, CA', 'Castle Rock Entrance Station Parking Lot, Unnamed Road, Saratoga, CA', 'San Francisco, California', 'D L Bliss State Park, California 89, South Lake Tahoe, CA', 'Yosemite Valley Visitor Center, Village Drive, Yosemite Valley, CA')\n",
      "\n",
      "Generation 3500 best: 2915 | Unique genomes: 77\n",
      "('Moro Rock Trail, California', 'Grand Canyon Visitor Center, South Entrance Road, Grand Canyon Village, AZ', 'Horseshoe Bend Parking Lot, Page, AZ', 'Monument Valley Navajo Tribal Park, Main Monument Valley Road, Oljato-Monument Valley, AZ', 'Natural Bridges Visitor Center, Natural Bridge, Lake Powell, UT', 'Arches National Park Visitor Center, Moab, UT', 'Island in the Sky Visitor Center, Grand View Point Road, Moab, UT', 'Calf Creek Campground, Boulder, UT', 'Bryce Canyon National Park Visitor Center, Utah 63, Bryce, UT', 'Zion National Park Visitor Center, Zion – Mount Carmel Highway, Hurricane, UT', 'Kanarra Creek Trailhead, Kanarraville, UT', 'Red Cliffs Recreation Area, Unnamed Road, Washington, UT', 'San Simeon, CA', 'Big Sur, CA', 'Carmel-by-the-Sea, CA', 'Castle Rock Entrance Station Parking Lot, Unnamed Road, Saratoga, CA', 'San Francisco, California', 'D L Bliss State Park, California 89, South Lake Tahoe, CA', 'Yosemite Valley Visitor Center, Village Drive, Yosemite Valley, CA')\n",
      "\n"
     ]
    },
    {
     "name": "stdout",
     "output_type": "stream",
     "text": [
      "Generation 4000 best: 2915 | Unique genomes: 81\n",
      "('Moro Rock Trail, California', 'Grand Canyon Visitor Center, South Entrance Road, Grand Canyon Village, AZ', 'Horseshoe Bend Parking Lot, Page, AZ', 'Monument Valley Navajo Tribal Park, Main Monument Valley Road, Oljato-Monument Valley, AZ', 'Natural Bridges Visitor Center, Natural Bridge, Lake Powell, UT', 'Arches National Park Visitor Center, Moab, UT', 'Island in the Sky Visitor Center, Grand View Point Road, Moab, UT', 'Calf Creek Campground, Boulder, UT', 'Bryce Canyon National Park Visitor Center, Utah 63, Bryce, UT', 'Zion National Park Visitor Center, Zion – Mount Carmel Highway, Hurricane, UT', 'Kanarra Creek Trailhead, Kanarraville, UT', 'Red Cliffs Recreation Area, Unnamed Road, Washington, UT', 'San Simeon, CA', 'Big Sur, CA', 'Carmel-by-the-Sea, CA', 'Castle Rock Entrance Station Parking Lot, Unnamed Road, Saratoga, CA', 'San Francisco, California', 'D L Bliss State Park, California 89, South Lake Tahoe, CA', 'Yosemite Valley Visitor Center, Village Drive, Yosemite Valley, CA')\n",
      "\n",
      "Generation 4500 best: 2915 | Unique genomes: 86\n",
      "('Moro Rock Trail, California', 'Grand Canyon Visitor Center, South Entrance Road, Grand Canyon Village, AZ', 'Horseshoe Bend Parking Lot, Page, AZ', 'Monument Valley Navajo Tribal Park, Main Monument Valley Road, Oljato-Monument Valley, AZ', 'Natural Bridges Visitor Center, Natural Bridge, Lake Powell, UT', 'Arches National Park Visitor Center, Moab, UT', 'Island in the Sky Visitor Center, Grand View Point Road, Moab, UT', 'Calf Creek Campground, Boulder, UT', 'Bryce Canyon National Park Visitor Center, Utah 63, Bryce, UT', 'Zion National Park Visitor Center, Zion – Mount Carmel Highway, Hurricane, UT', 'Kanarra Creek Trailhead, Kanarraville, UT', 'Red Cliffs Recreation Area, Unnamed Road, Washington, UT', 'San Simeon, CA', 'Big Sur, CA', 'Carmel-by-the-Sea, CA', 'Castle Rock Entrance Station Parking Lot, Unnamed Road, Saratoga, CA', 'San Francisco, California', 'D L Bliss State Park, California 89, South Lake Tahoe, CA', 'Yosemite Valley Visitor Center, Village Drive, Yosemite Valley, CA')\n",
      "\n",
      "Generation 4999 best: 2915 | Unique genomes: 77\n",
      "('Moro Rock Trail, California', 'Grand Canyon Visitor Center, South Entrance Road, Grand Canyon Village, AZ', 'Horseshoe Bend Parking Lot, Page, AZ', 'Monument Valley Navajo Tribal Park, Main Monument Valley Road, Oljato-Monument Valley, AZ', 'Natural Bridges Visitor Center, Natural Bridge, Lake Powell, UT', 'Arches National Park Visitor Center, Moab, UT', 'Island in the Sky Visitor Center, Grand View Point Road, Moab, UT', 'Calf Creek Campground, Boulder, UT', 'Bryce Canyon National Park Visitor Center, Utah 63, Bryce, UT', 'Zion National Park Visitor Center, Zion – Mount Carmel Highway, Hurricane, UT', 'Kanarra Creek Trailhead, Kanarraville, UT', 'Red Cliffs Recreation Area, Unnamed Road, Washington, UT', 'San Simeon, CA', 'Big Sur, CA', 'Carmel-by-the-Sea, CA', 'Castle Rock Entrance Station Parking Lot, Unnamed Road, Saratoga, CA', 'San Francisco, California', 'D L Bliss State Park, California 89, South Lake Tahoe, CA', 'Yosemite Valley Visitor Center, Village Drive, Yosemite Valley, CA')\n",
      "\n"
     ]
    }
   ],
   "source": [
    "from src.genetic_algorithm import *\n",
    "\n",
    "\n",
    "results = run_genetic_algorithm(MY_POINTS_OF_INTEREST, distance_duration_filename, generations=5000, population_size=100)"
   ]
  },
  {
   "cell_type": "code",
   "execution_count": 12,
   "metadata": {},
   "outputs": [
    {
     "data": {
      "text/plain": [
       "('Moro Rock Trail, California',\n",
       " 'Grand Canyon Visitor Center, South Entrance Road, Grand Canyon Village, AZ',\n",
       " 'Horseshoe Bend Parking Lot, Page, AZ',\n",
       " 'Monument Valley Navajo Tribal Park, Main Monument Valley Road, Oljato-Monument Valley, AZ',\n",
       " 'Natural Bridges Visitor Center, Natural Bridge, Lake Powell, UT',\n",
       " 'Arches National Park Visitor Center, Moab, UT',\n",
       " 'Island in the Sky Visitor Center, Grand View Point Road, Moab, UT',\n",
       " 'Calf Creek Campground, Boulder, UT',\n",
       " 'Bryce Canyon National Park Visitor Center, Utah 63, Bryce, UT',\n",
       " 'Zion National Park Visitor Center, Zion – Mount Carmel Highway, Hurricane, UT',\n",
       " 'Kanarra Creek Trailhead, Kanarraville, UT',\n",
       " 'Red Cliffs Recreation Area, Unnamed Road, Washington, UT',\n",
       " 'San Simeon, CA',\n",
       " 'Big Sur, CA',\n",
       " 'Carmel-by-the-Sea, CA',\n",
       " 'Castle Rock Entrance Station Parking Lot, Unnamed Road, Saratoga, CA',\n",
       " 'San Francisco, California',\n",
       " 'D L Bliss State Park, California 89, South Lake Tahoe, CA',\n",
       " 'Yosemite Valley Visitor Center, Village Drive, Yosemite Valley, CA')"
      ]
     },
     "execution_count": 12,
     "metadata": {},
     "output_type": "execute_result"
    }
   ],
   "source": [
    "results"
   ]
  },
  {
   "cell_type": "code",
   "execution_count": 13,
   "metadata": {},
   "outputs": [],
   "source": [
    "template_filename = \"./src/major_landmarks.html\"\n",
    "\n",
    "# Read in data from template HTML file\n",
    "with open(template_filename, \"r\") as file:\n",
    "    html_data = file.read()"
   ]
  },
  {
   "cell_type": "code",
   "execution_count": 14,
   "metadata": {},
   "outputs": [
    {
     "data": {
      "text/plain": [
       "'<!-- Thank you to Randal S. Olson (http://www.randalolson.com/) for the road trip map HTML code below.\\nAll credit for the code goes to him with a few minor adjustments made by me. Source :\\nhttps://github.com/rhiever/optimal-roadtrip-usa/blob/gh-pages/major-landmarks.html#L93 -->\\n\\n<!DOCTYPE html>\\n<html lang=\"en\">\\n  <head>\\n    <meta charset=\"utf-8\">\\n    <meta name=\"viewport\" content=\"initial-scale=1.0, user-scalable=no\">\\n    <meta name=\"description\" content=\"Randy Olson uses machine learning to find the optimal road trip across the U.S.\">\\n    <meta name=\"author\" content=\"Randal S. Olson\">\\n\\n    <title>The optimal road trip across the U.S. according to machine learning</title>\\n    <style>\\n      html, body, #map-canvas {\\n        height: 100%;\\n        margin: 0px;\\n        padding: 0px\\n      }\\n      #panel {\\n        position: absolute;\\n        top: 5px;\\n        left: 50%;\\n        margin-left: -180px;\\n        z-index: 5;\\n        background-color: #fff;\\n        padding: 10px;\\n        border: 1px solid #999;\\n      }\\n    </style>\\n    <script src=\"https://maps.googleapis.com/maps/api/js?v=3.exp&signed_in=true\"></script>\\n    <script>\\n        var routes_list = []\\n        var markerOptions = {icon: \"http://maps.gstatic.com/mapfiles/markers2/marker.png\"};\\n        var directionsDisplayOptions = {preserveViewport: true,\\n                                        markerOptions: markerOptions};\\n        var directionsService = new google.maps.DirectionsService();\\n        var map;\\n        function initialize() {\\n          var center = new google.maps.LatLng(39, -96);\\n          var mapOptions = {\\n            zoom: 5,\\n            center: center\\n          };\\n          map = new google.maps.Map(document.getElementById(\\'map-canvas\\'), mapOptions);\\n          for (i=0; i<routes_list.length; i++) {\\n            routes_list[i].setMap(map);\\n          }\\n        }\\n        function calcRoute(start, end, routes) {\\n\\n          var directionsDisplay = new google.maps.DirectionsRenderer(directionsDisplayOptions);\\n          var waypts = [];\\n          for (var i = 0; i < routes.length; i++) {\\n            waypts.push({\\n              location:routes[i],\\n              stopover:true});\\n            }\\n\\n          var request = {\\n              origin: start,\\n              destination: end,\\n              waypoints: waypts,\\n              optimizeWaypoints: false,\\n              travelMode: google.maps.TravelMode.DRIVING\\n          };\\n          directionsService.route(request, function(response, status) {\\n            if (status == google.maps.DirectionsStatus.OK) {\\n                directionsDisplay.setDirections(response);\\n            }\\n          });\\n          routes_list.push(directionsDisplay);\\n        }\\n        function createRoutes(route) {\\n            // Google\\'s free map API is limited to 10 waypoints so need to break into batches\\n            route.push(route[0]);\\n            var subset = 0;\\n            while (subset < route.length) {\\n                var waypointSubset = route.slice(subset, subset + 10);\\n                var startPoint = waypointSubset[0];\\n                var midPoints = waypointSubset.slice(1, waypointSubset.length - 1);\\n                var endPoint = waypointSubset[waypointSubset.length - 1];\\n                calcRoute(startPoint, endPoint, midPoints);\\n                subset += 9;\\n            }\\n        }\\n        optimal_route = [...]\\n\\n        createRoutes(optimal_route);\\n        google.maps.event.addDomListener(window, \\'load\\', initialize);\\n    </script>\\n  </head>\\n  <body>\\n    <div id=\"map-canvas\"></div>\\n  </body>\\n</html>\\n'"
      ]
     },
     "execution_count": 14,
     "metadata": {},
     "output_type": "execute_result"
    }
   ],
   "source": [
    "html_data"
   ]
  },
  {
   "cell_type": "code",
   "execution_count": 15,
   "metadata": {},
   "outputs": [],
   "source": [
    "# Reformat results data\n",
    "results = str(results).replace(\"(\", \"\").replace(\")\", \"\")"
   ]
  },
  {
   "cell_type": "code",
   "execution_count": 16,
   "metadata": {},
   "outputs": [
    {
     "data": {
      "text/plain": [
       "\"'Moro Rock Trail, California', 'Grand Canyon Visitor Center, South Entrance Road, Grand Canyon Village, AZ', 'Horseshoe Bend Parking Lot, Page, AZ', 'Monument Valley Navajo Tribal Park, Main Monument Valley Road, Oljato-Monument Valley, AZ', 'Natural Bridges Visitor Center, Natural Bridge, Lake Powell, UT', 'Arches National Park Visitor Center, Moab, UT', 'Island in the Sky Visitor Center, Grand View Point Road, Moab, UT', 'Calf Creek Campground, Boulder, UT', 'Bryce Canyon National Park Visitor Center, Utah 63, Bryce, UT', 'Zion National Park Visitor Center, Zion – Mount Carmel Highway, Hurricane, UT', 'Kanarra Creek Trailhead, Kanarraville, UT', 'Red Cliffs Recreation Area, Unnamed Road, Washington, UT', 'San Simeon, CA', 'Big Sur, CA', 'Carmel-by-the-Sea, CA', 'Castle Rock Entrance Station Parking Lot, Unnamed Road, Saratoga, CA', 'San Francisco, California', 'D L Bliss State Park, California 89, South Lake Tahoe, CA', 'Yosemite Valley Visitor Center, Village Drive, Yosemite Valley, CA'\""
      ]
     },
     "execution_count": 16,
     "metadata": {},
     "output_type": "execute_result"
    }
   ],
   "source": [
    "results"
   ]
  },
  {
   "cell_type": "code",
   "execution_count": 17,
   "metadata": {},
   "outputs": [],
   "source": [
    "# Replace ... in template HTML with correct output\n",
    "html_data = html_data.replace(\"...\", results)"
   ]
  },
  {
   "cell_type": "code",
   "execution_count": 18,
   "metadata": {},
   "outputs": [
    {
     "data": {
      "text/plain": [
       "'<!-- Thank you to Randal S. Olson (http://www.randalolson.com/) for the road trip map HTML code below.\\nAll credit for the code goes to him with a few minor adjustments made by me. Source :\\nhttps://github.com/rhiever/optimal-roadtrip-usa/blob/gh-pages/major-landmarks.html#L93 -->\\n\\n<!DOCTYPE html>\\n<html lang=\"en\">\\n  <head>\\n    <meta charset=\"utf-8\">\\n    <meta name=\"viewport\" content=\"initial-scale=1.0, user-scalable=no\">\\n    <meta name=\"description\" content=\"Randy Olson uses machine learning to find the optimal road trip across the U.S.\">\\n    <meta name=\"author\" content=\"Randal S. Olson\">\\n\\n    <title>The optimal road trip across the U.S. according to machine learning</title>\\n    <style>\\n      html, body, #map-canvas {\\n        height: 100%;\\n        margin: 0px;\\n        padding: 0px\\n      }\\n      #panel {\\n        position: absolute;\\n        top: 5px;\\n        left: 50%;\\n        margin-left: -180px;\\n        z-index: 5;\\n        background-color: #fff;\\n        padding: 10px;\\n        border: 1px solid #999;\\n      }\\n    </style>\\n    <script src=\"https://maps.googleapis.com/maps/api/js?v=3.exp&signed_in=true\"></script>\\n    <script>\\n        var routes_list = []\\n        var markerOptions = {icon: \"http://maps.gstatic.com/mapfiles/markers2/marker.png\"};\\n        var directionsDisplayOptions = {preserveViewport: true,\\n                                        markerOptions: markerOptions};\\n        var directionsService = new google.maps.DirectionsService();\\n        var map;\\n        function initialize() {\\n          var center = new google.maps.LatLng(39, -96);\\n          var mapOptions = {\\n            zoom: 5,\\n            center: center\\n          };\\n          map = new google.maps.Map(document.getElementById(\\'map-canvas\\'), mapOptions);\\n          for (i=0; i<routes_list.length; i++) {\\n            routes_list[i].setMap(map);\\n          }\\n        }\\n        function calcRoute(start, end, routes) {\\n\\n          var directionsDisplay = new google.maps.DirectionsRenderer(directionsDisplayOptions);\\n          var waypts = [];\\n          for (var i = 0; i < routes.length; i++) {\\n            waypts.push({\\n              location:routes[i],\\n              stopover:true});\\n            }\\n\\n          var request = {\\n              origin: start,\\n              destination: end,\\n              waypoints: waypts,\\n              optimizeWaypoints: false,\\n              travelMode: google.maps.TravelMode.DRIVING\\n          };\\n          directionsService.route(request, function(response, status) {\\n            if (status == google.maps.DirectionsStatus.OK) {\\n                directionsDisplay.setDirections(response);\\n            }\\n          });\\n          routes_list.push(directionsDisplay);\\n        }\\n        function createRoutes(route) {\\n            // Google\\'s free map API is limited to 10 waypoints so need to break into batches\\n            route.push(route[0]);\\n            var subset = 0;\\n            while (subset < route.length) {\\n                var waypointSubset = route.slice(subset, subset + 10);\\n                var startPoint = waypointSubset[0];\\n                var midPoints = waypointSubset.slice(1, waypointSubset.length - 1);\\n                var endPoint = waypointSubset[waypointSubset.length - 1];\\n                calcRoute(startPoint, endPoint, midPoints);\\n                subset += 9;\\n            }\\n        }\\n        optimal_route = [\\'Moro Rock Trail, California\\', \\'Grand Canyon Visitor Center, South Entrance Road, Grand Canyon Village, AZ\\', \\'Horseshoe Bend Parking Lot, Page, AZ\\', \\'Monument Valley Navajo Tribal Park, Main Monument Valley Road, Oljato-Monument Valley, AZ\\', \\'Natural Bridges Visitor Center, Natural Bridge, Lake Powell, UT\\', \\'Arches National Park Visitor Center, Moab, UT\\', \\'Island in the Sky Visitor Center, Grand View Point Road, Moab, UT\\', \\'Calf Creek Campground, Boulder, UT\\', \\'Bryce Canyon National Park Visitor Center, Utah 63, Bryce, UT\\', \\'Zion National Park Visitor Center, Zion – Mount Carmel Highway, Hurricane, UT\\', \\'Kanarra Creek Trailhead, Kanarraville, UT\\', \\'Red Cliffs Recreation Area, Unnamed Road, Washington, UT\\', \\'San Simeon, CA\\', \\'Big Sur, CA\\', \\'Carmel-by-the-Sea, CA\\', \\'Castle Rock Entrance Station Parking Lot, Unnamed Road, Saratoga, CA\\', \\'San Francisco, California\\', \\'D L Bliss State Park, California 89, South Lake Tahoe, CA\\', \\'Yosemite Valley Visitor Center, Village Drive, Yosemite Valley, CA\\']\\n\\n        createRoutes(optimal_route);\\n        google.maps.event.addDomListener(window, \\'load\\', initialize);\\n    </script>\\n  </head>\\n  <body>\\n    <div id=\"map-canvas\"></div>\\n  </body>\\n</html>\\n'"
      ]
     },
     "execution_count": 18,
     "metadata": {},
     "output_type": "execute_result"
    }
   ],
   "source": [
    "html_data"
   ]
  },
  {
   "cell_type": "code",
   "execution_count": 20,
   "metadata": {},
   "outputs": [],
   "source": [
    "output_filename = \"./results/results.html\"\n",
    "\n",
    "# Write data to output HTML file\n",
    "with open(output_filename, \"w\") as file:\n",
    "\n",
    "    file.write(html_data)"
   ]
  },
  {
   "cell_type": "code",
   "execution_count": 22,
   "metadata": {},
   "outputs": [],
   "source": [
    "# View map of results (map opens in new tab)\n",
    "!open ./results/results.html"
   ]
  },
  {
   "cell_type": "code",
   "execution_count": null,
   "metadata": {},
   "outputs": [],
   "source": []
  }
 ],
 "metadata": {
  "kernelspec": {
   "display_name": "Python 3",
   "language": "python",
   "name": "python3"
  },
  "language_info": {
   "codemirror_mode": {
    "name": "ipython",
    "version": 3
   },
   "file_extension": ".py",
   "mimetype": "text/x-python",
   "name": "python",
   "nbconvert_exporter": "python",
   "pygments_lexer": "ipython3",
   "version": "3.6.6"
  }
 },
 "nbformat": 4,
 "nbformat_minor": 2
}
