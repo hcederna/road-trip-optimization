{
 "cells": [
  {
   "cell_type": "markdown",
   "metadata": {},
   "source": [
    "# Enter Trip Information"
   ]
  },
  {
   "cell_type": "code",
   "execution_count": 2,
   "metadata": {},
   "outputs": [],
   "source": [
    "# Enter a trip name (a unique identifier for the specified points of interest)\n",
    "TRIP_NAME = \"east\"\n",
    "\n",
    "# Enter your points of interest in the list below (include your starting location)\n",
    "MY_POINTS_OF_INTEREST = [\n",
    "    \"San Francisco, California\", # Starting Location\n",
    "    \"Yosemite Valley Visitor Center, Village Drive, Yosemite Valley, CA\", # Yosemite NP\n",
    "    \"D L Bliss State Park, California 89, South Lake Tahoe, CA\", # Lake Tahoe\n",
    "    \"Zion National Park Visitor Center, Zion – Mount Carmel Highway, Hurricane, UT\", # Zion NP\n",
    "    \"Arches National Park Visitor Center, Moab, UT\", # Arches NP\n",
    "    \"Monument Valley Navajo Tribal Park, Main Monument Valley Road, Oljato-Monument Valley, AZ\", # Monument Valley\n",
    "    \"Island in the Sky Visitor Center, Grand View Point Road, Moab, UT\", # Canyonlands NP\n",
    "    \"Bryce Canyon National Park Visitor Center, Utah 63, Bryce, UT\", # Bryce Canyon NP\n",
    "    \"Moro Rock Trail, California\", # Sequoia NP\n",
    "    \"Horseshoe Bend Parking Lot, Page, AZ\", # Horseshoe Bend Trail\n",
    "    \"Grand Canyon Visitor Center, South Entrance Road, Grand Canyon Village, AZ\", # Grand Canyon NP\n",
    "    \"Calf Creek Campground, Boulder, UT\", # Grand Staircase-Escalante NM\n",
    "    \"Red Cliffs Recreation Area, Unnamed Road, Washington, UT\", # Red Cliffs Recreation Nature Trail\n",
    "    \"Natural Bridges Visitor Center, Natural Bridge, Lake Powell, UT\", # Natural Bridges NM\n",
    "    \"Kanarra Creek Trailhead, Kanarraville, UT\", # Kanarra Creek Canyon Trail\n",
    "    \"San Simeon, CA\", # South Big Sur Drive\n",
    "    \"Big Sur, CA\", # Middle Big Sur Drive\n",
    "    \"Carmel-by-the-Sea, CA\", # North Big Sur Drive\n",
    "    \"Castle Rock Entrance Station Parking Lot, Unnamed Road, Saratoga, CA\", # Saratoga Gap Trail\n",
    "]"
   ]
  },
  {
   "cell_type": "code",
   "execution_count": null,
   "metadata": {},
   "outputs": [],
   "source": []
  }
 ],
 "metadata": {
  "kernelspec": {
   "display_name": "Python 3",
   "language": "python",
   "name": "python3"
  },
  "language_info": {
   "codemirror_mode": {
    "name": "ipython",
    "version": 3
   },
   "file_extension": ".py",
   "mimetype": "text/x-python",
   "name": "python",
   "nbconvert_exporter": "python",
   "pygments_lexer": "ipython3",
   "version": "3.6.6"
  }
 },
 "nbformat": 4,
 "nbformat_minor": 2
}
