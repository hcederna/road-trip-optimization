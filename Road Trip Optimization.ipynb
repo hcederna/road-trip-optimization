{
 "cells": [
  {
   "cell_type": "markdown",
   "metadata": {},
   "source": [
    "# Enter Trip Information"
   ]
  },
  {
   "cell_type": "code",
   "execution_count": 1,
   "metadata": {},
   "outputs": [],
   "source": [
    "%load_ext autoreload\n",
    "%autoreload 2"
   ]
  },
  {
   "cell_type": "code",
   "execution_count": 2,
   "metadata": {},
   "outputs": [],
   "source": [
    "# Enter a trip name (a unique identifier for the specified points of interest)\n",
    "TRIP_NAME = \"east\"\n",
    "\n",
    "# Enter your points of interest in the list below (include your starting location)\n",
    "MY_POINTS_OF_INTEREST = [\n",
    "    \"San Francisco, California\", # Starting Location\n",
    "    \"Yosemite Valley Visitor Center, Village Drive, Yosemite Valley, CA\", # Yosemite NP\n",
    "    \"D L Bliss State Park, California 89, South Lake Tahoe, CA\", # Lake Tahoe\n",
    "    \"Zion National Park Visitor Center, Zion – Mount Carmel Highway, Hurricane, UT\", # Zion NP\n",
    "    \"Arches National Park Visitor Center, Moab, UT\", # Arches NP\n",
    "    \"Monument Valley Navajo Tribal Park, Main Monument Valley Road, Oljato-Monument Valley, AZ\", # Monument Valley\n",
    "    \"Island in the Sky Visitor Center, Grand View Point Road, Moab, UT\", # Canyonlands NP\n",
    "    \"Bryce Canyon National Park Visitor Center, Utah 63, Bryce, UT\", # Bryce Canyon NP\n",
    "    \"Moro Rock Trail, California\", # Sequoia NP\n",
    "    \"Horseshoe Bend Parking Lot, Page, AZ\", # Horseshoe Bend Trail\n",
    "    \"Grand Canyon Visitor Center, South Entrance Road, Grand Canyon Village, AZ\", # Grand Canyon NP\n",
    "    \"Calf Creek Campground, Boulder, UT\", # Grand Staircase-Escalante NM\n",
    "    \"Red Cliffs Recreation Area, Unnamed Road, Washington, UT\", # Red Cliffs Recreation Nature Trail\n",
    "    \"Natural Bridges Visitor Center, Natural Bridge, Lake Powell, UT\", # Natural Bridges NM\n",
    "    \"Kanarra Creek Trailhead, Kanarraville, UT\", # Kanarra Creek Canyon Trail\n",
    "    \"San Simeon, CA\", # South Big Sur Drive\n",
    "    \"Big Sur, CA\", # Middle Big Sur Drive\n",
    "    \"Carmel-by-the-Sea, CA\", # North Big Sur Drive\n",
    "    \"Castle Rock Entrance Station Parking Lot, Unnamed Road, Saratoga, CA\", # Saratoga Gap Trail\n",
    "]"
   ]
  },
  {
   "cell_type": "markdown",
   "metadata": {},
   "source": [
    "# Collect Driving Distance/Duration Information"
   ]
  },
  {
   "cell_type": "code",
   "execution_count": 3,
   "metadata": {},
   "outputs": [
    {
     "data": {
      "text/html": [
       "<div>\n",
       "<style scoped>\n",
       "    .dataframe tbody tr th:only-of-type {\n",
       "        vertical-align: middle;\n",
       "    }\n",
       "\n",
       "    .dataframe tbody tr th {\n",
       "        vertical-align: top;\n",
       "    }\n",
       "\n",
       "    .dataframe thead th {\n",
       "        text-align: right;\n",
       "    }\n",
       "</style>\n",
       "<table border=\"1\" class=\"dataframe\">\n",
       "  <thead>\n",
       "    <tr style=\"text-align: right;\">\n",
       "      <th></th>\n",
       "      <th>Venue 1</th>\n",
       "      <th>Venue 2</th>\n",
       "      <th>Distance (mi)</th>\n",
       "      <th>Duration (s)</th>\n",
       "      <th>Duration (hhmm)</th>\n",
       "    </tr>\n",
       "  </thead>\n",
       "  <tbody>\n",
       "    <tr>\n",
       "      <th>3</th>\n",
       "      <td>San Francisco, California</td>\n",
       "      <td>Arches National Park Visitor Center, Moab, UT</td>\n",
       "      <td>963</td>\n",
       "      <td>51219</td>\n",
       "      <td>14:13</td>\n",
       "    </tr>\n",
       "    <tr>\n",
       "      <th>4</th>\n",
       "      <td>San Francisco, California</td>\n",
       "      <td>Monument Valley Navajo Tribal Park, Main Monum...</td>\n",
       "      <td>941</td>\n",
       "      <td>52195</td>\n",
       "      <td>14:29</td>\n",
       "    </tr>\n",
       "    <tr>\n",
       "      <th>2</th>\n",
       "      <td>San Francisco, California</td>\n",
       "      <td>Zion National Park Visitor Center, Zion – Moun...</td>\n",
       "      <td>727</td>\n",
       "      <td>40019</td>\n",
       "      <td>11:06</td>\n",
       "    </tr>\n",
       "    <tr>\n",
       "      <th>1</th>\n",
       "      <td>San Francisco, California</td>\n",
       "      <td>D L Bliss State Park, California 89, South Lak...</td>\n",
       "      <td>197</td>\n",
       "      <td>12542</td>\n",
       "      <td>3:29</td>\n",
       "    </tr>\n",
       "    <tr>\n",
       "      <th>0</th>\n",
       "      <td>San Francisco, California</td>\n",
       "      <td>Yosemite Valley Visitor Center, Village Drive,...</td>\n",
       "      <td>191</td>\n",
       "      <td>14181</td>\n",
       "      <td>3:56</td>\n",
       "    </tr>\n",
       "  </tbody>\n",
       "</table>\n",
       "</div>"
      ],
      "text/plain": [
       "                     Venue 1  \\\n",
       "3  San Francisco, California   \n",
       "4  San Francisco, California   \n",
       "2  San Francisco, California   \n",
       "1  San Francisco, California   \n",
       "0  San Francisco, California   \n",
       "\n",
       "                                             Venue 2  Distance (mi)  \\\n",
       "3      Arches National Park Visitor Center, Moab, UT            963   \n",
       "4  Monument Valley Navajo Tribal Park, Main Monum...            941   \n",
       "2  Zion National Park Visitor Center, Zion – Moun...            727   \n",
       "1  D L Bliss State Park, California 89, South Lak...            197   \n",
       "0  Yosemite Valley Visitor Center, Village Drive,...            191   \n",
       "\n",
       "   Duration (s) Duration (hhmm)  \n",
       "3         51219           14:13  \n",
       "4         52195           14:29  \n",
       "2         40019           11:06  \n",
       "1         12542            3:29  \n",
       "0         14181            3:56  "
      ]
     },
     "execution_count": 3,
     "metadata": {},
     "output_type": "execute_result"
    }
   ],
   "source": [
    "from src.data_collection import *\n",
    "from config import GOOGLE_MAPS_API_KEY\n",
    "\n",
    "\n",
    "# Determine distance and duration filename based on specified trip name\n",
    "distance_duration_filename = \"data/my_{}_points_of_interest_distance_duration.csv\".format(TRIP_NAME)\n",
    "\n",
    "# Try to create a distance and duration df containing all my points of interest from the filename\n",
    "try:\n",
    "    \n",
    "    distance_duration_df = pd.read_csv(distance_duration_filename, index_col=0)\n",
    "\n",
    "    # Create list of unique points of interest from df\n",
    "    df_points_of_interest = set(pd.unique(distance_duration_df[['Venue 1', 'Venue 2']].values.ravel('K')))\n",
    "\n",
    "    # Check if missing one or more of my points of interest in df\n",
    "    if not set(MY_POINTS_OF_INTEREST).issubset(df_points_of_interest):\n",
    "        \n",
    "        raise Exception(\"Missing one or more of my points of interest in '{}'\".format(distance_duration_filename))\n",
    "\n",
    "# Create a distance and duration df with all my points of interest and save to the specified filename\n",
    "except (FileNotFoundError, Exception) as e:\n",
    "        \n",
    "    # Query Google Maps API for one-way driving distances and durations\n",
    "    distance_duration_data = query_gmaps_api_for_one_way_driving_distance_and_duration(MY_POINTS_OF_INTEREST, GOOGLE_MAPS_API_KEY)\n",
    "\n",
    "    # Create DataFrame of one-way distances and durations\n",
    "    distance_duration_df = create_distance_and_duration_df(distance_duration_data)\n",
    "\n",
    "    # Save DataFrame to CSV\n",
    "    distance_duration_df.to_csv(distance_duration_filename)\n",
    "    \n",
    "# Preview distance and duration df\n",
    "distance_duration_df.head().sort_values('Distance (mi)', ascending=False)"
   ]
  },
  {
   "cell_type": "markdown",
   "metadata": {},
   "source": [
    "## *Optional : Display Full Name Squareform Distance/Duration Matrices*"
   ]
  },
  {
   "cell_type": "code",
   "execution_count": 3,
   "metadata": {},
   "outputs": [],
   "source": [
    "# Add reverse travel information (B to A not just A to B) to distance and duration df\n",
    "_df = add_reverse_travel_information_to_distance_duration_df(distance_duration_df)\n",
    "\n",
    "# Create squareform matrices\n",
    "distance_matrix = _df.pivot(index='Venue 1', columns='Venue 2', values='Distance (mi)').fillna(0).astype(int)\n",
    "duration_matrix = _df.pivot(index='Venue 1', columns='Venue 2', values='Duration (s)').fillna(0).astype(int)\n",
    "duration_matrix_hhmm = _df.pivot(index='Venue 1', columns='Venue 2', values='Duration (hhmm)').fillna(\"0:00\")"
   ]
  },
  {
   "cell_type": "code",
   "execution_count": null,
   "metadata": {},
   "outputs": [],
   "source": [
    "# # Display distance matrix\n",
    "# display(distance_matrix)"
   ]
  },
  {
   "cell_type": "code",
   "execution_count": null,
   "metadata": {},
   "outputs": [],
   "source": [
    "# # Display duration matrix\n",
    "# display(duration_matrix)"
   ]
  },
  {
   "cell_type": "code",
   "execution_count": null,
   "metadata": {},
   "outputs": [],
   "source": [
    "# Display duration hhmm matrix\n",
    "display(duration_matrix_hhmm)"
   ]
  },
  {
   "cell_type": "markdown",
   "metadata": {},
   "source": [
    "## *Optional : Display Integer Name Squareform Distance/Duration Matrices*"
   ]
  },
  {
   "cell_type": "code",
   "execution_count": 4,
   "metadata": {},
   "outputs": [],
   "source": [
    "# Add reverse travel information (B to A not just A to B) to distance and duration df\n",
    "_df = add_reverse_travel_information_to_distance_duration_df(distance_duration_df)\n",
    "\n",
    "# Convert venue columns to categorical type and create categorical code columns\n",
    "_df['Venue 1'] = _df['Venue 1'].astype('category')\n",
    "_df['Venue 1 Codes'] = _df['Venue 1'].cat.codes\n",
    "_df['Venue 2'] = pd.Categorical(_df['Venue 2'], categories=_df['Venue 1'].cat.categories)\n",
    "_df['Venue 2 Codes'] = _df['Venue 2'].cat.codes\n",
    "\n",
    "# Create squareform matrices with codes\n",
    "distance_matrix = _df.pivot(index='Venue 1 Codes', columns='Venue 2 Codes', values='Distance (mi)').fillna(0).astype(int)\n",
    "duration_matrix = _df.pivot(index='Venue 1 Codes', columns='Venue 2 Codes', values='Duration (s)').fillna(0).astype(int)\n",
    "duration_matrix_hhmm = _df.pivot(index='Venue 1 Codes', columns='Venue 2 Codes', values='Duration (hhmm)').fillna(\"0:00\")"
   ]
  },
  {
   "cell_type": "code",
   "execution_count": null,
   "metadata": {},
   "outputs": [],
   "source": [
    "# # Preview new columns\n",
    "# _df.sample(5)"
   ]
  },
  {
   "cell_type": "code",
   "execution_count": null,
   "metadata": {},
   "outputs": [],
   "source": [
    "# # Display distance matrix with code mappings\n",
    "# display(distance_matrix)\n",
    "\n",
    "# # Print dict of code: cat mappings for reference\n",
    "# _ = dict(enumerate(_df['Venue 1'].cat.categories))\n",
    "# for k, v in _.items():\n",
    "#     print(k, \":\", v)"
   ]
  },
  {
   "cell_type": "code",
   "execution_count": null,
   "metadata": {},
   "outputs": [],
   "source": [
    "# # Display duration matrix with code mappings\n",
    "# display(duration_matrix)\n",
    "\n",
    "# # Print dict of code: cat mappings for reference\n",
    "# _ = dict(enumerate(_df['Venue 1'].cat.categories))\n",
    "# for k, v in _.items():\n",
    "#     print(k, \":\", v)"
   ]
  },
  {
   "cell_type": "code",
   "execution_count": null,
   "metadata": {},
   "outputs": [],
   "source": [
    "# Display duration matrix hhmm with code mappings\n",
    "display(duration_matrix_hhmm)\n",
    "\n",
    "# Print dict of code: cat mappings for reference\n",
    "_ = dict(enumerate(_df['Venue 1'].cat.categories))\n",
    "for k, v in _.items():\n",
    "    print(k, \":\", v)"
   ]
  },
  {
   "cell_type": "markdown",
   "metadata": {},
   "source": [
    "# Optimize Road Trip via Genetic Algorithm"
   ]
  },
  {
   "cell_type": "markdown",
   "metadata": {},
   "source": [
    "Thank you to [Randal S. Olson](http://www.randalolson.com/) for the genetic algorithm code below (sourced from [this notebook](https://github.com/rhiever/Data-Analysis-and-Machine-Learning-Projects/blob/master/optimal-road-trip/Computing%20the%20optimal%20road%20trip%20across%20the%20U.S..ipynb) and further explained in [this blog post](http://www.randalolson.com/2015/03/08/computing-the-optimal-road-trip-across-the-u-s/)). All the credit for the code goes to him with a few minor adjustments made by me."
   ]
  },
  {
   "cell_type": "code",
   "execution_count": 70,
   "metadata": {
    "scrolled": true
   },
   "outputs": [
    {
     "name": "stdout",
     "output_type": "stream",
     "text": [
      "Generation 0 best: 6628 | Unique genomes: 100\n",
      "('Big Sur, CA', 'San Francisco, California', 'Zion National Park Visitor Center, Zion – Mount Carmel Highway, Hurricane, UT', 'Horseshoe Bend Parking Lot, Page, AZ', 'Monument Valley Navajo Tribal Park, Main Monument Valley Road, Oljato-Monument Valley, AZ', 'Natural Bridges Visitor Center, Natural Bridge, Lake Powell, UT', 'Yosemite Valley Visitor Center, Village Drive, Yosemite Valley, CA', 'Moro Rock Trail, California', 'D L Bliss State Park, California 89, South Lake Tahoe, CA', 'Castle Rock Entrance Station Parking Lot, Unnamed Road, Saratoga, CA', 'Carmel-by-the-Sea, CA', 'Arches National Park Visitor Center, Moab, UT', 'Island in the Sky Visitor Center, Grand View Point Road, Moab, UT', 'Bryce Canyon National Park Visitor Center, Utah 63, Bryce, UT', 'Grand Canyon Visitor Center, South Entrance Road, Grand Canyon Village, AZ', 'San Simeon, CA', 'Kanarra Creek Trailhead, Kanarraville, UT', 'Calf Creek Campground, Boulder, UT', 'Red Cliffs Recreation Area, Unnamed Road, Washington, UT')\n",
      "\n",
      "Generation 500 best: 2915 | Unique genomes: 81\n",
      "('Red Cliffs Recreation Area, Unnamed Road, Washington, UT', 'San Simeon, CA', 'Big Sur, CA', 'Carmel-by-the-Sea, CA', 'Castle Rock Entrance Station Parking Lot, Unnamed Road, Saratoga, CA', 'San Francisco, California', 'D L Bliss State Park, California 89, South Lake Tahoe, CA', 'Yosemite Valley Visitor Center, Village Drive, Yosemite Valley, CA', 'Moro Rock Trail, California', 'Grand Canyon Visitor Center, South Entrance Road, Grand Canyon Village, AZ', 'Horseshoe Bend Parking Lot, Page, AZ', 'Monument Valley Navajo Tribal Park, Main Monument Valley Road, Oljato-Monument Valley, AZ', 'Natural Bridges Visitor Center, Natural Bridge, Lake Powell, UT', 'Arches National Park Visitor Center, Moab, UT', 'Island in the Sky Visitor Center, Grand View Point Road, Moab, UT', 'Calf Creek Campground, Boulder, UT', 'Bryce Canyon National Park Visitor Center, Utah 63, Bryce, UT', 'Zion National Park Visitor Center, Zion – Mount Carmel Highway, Hurricane, UT', 'Kanarra Creek Trailhead, Kanarraville, UT')\n",
      "\n",
      "Generation 1000 best: 2915 | Unique genomes: 87\n",
      "('Red Cliffs Recreation Area, Unnamed Road, Washington, UT', 'San Simeon, CA', 'Big Sur, CA', 'Carmel-by-the-Sea, CA', 'Castle Rock Entrance Station Parking Lot, Unnamed Road, Saratoga, CA', 'San Francisco, California', 'D L Bliss State Park, California 89, South Lake Tahoe, CA', 'Yosemite Valley Visitor Center, Village Drive, Yosemite Valley, CA', 'Moro Rock Trail, California', 'Grand Canyon Visitor Center, South Entrance Road, Grand Canyon Village, AZ', 'Horseshoe Bend Parking Lot, Page, AZ', 'Monument Valley Navajo Tribal Park, Main Monument Valley Road, Oljato-Monument Valley, AZ', 'Natural Bridges Visitor Center, Natural Bridge, Lake Powell, UT', 'Arches National Park Visitor Center, Moab, UT', 'Island in the Sky Visitor Center, Grand View Point Road, Moab, UT', 'Calf Creek Campground, Boulder, UT', 'Bryce Canyon National Park Visitor Center, Utah 63, Bryce, UT', 'Zion National Park Visitor Center, Zion – Mount Carmel Highway, Hurricane, UT', 'Kanarra Creek Trailhead, Kanarraville, UT')\n",
      "\n",
      "Generation 1500 best: 2915 | Unique genomes: 78\n",
      "('Red Cliffs Recreation Area, Unnamed Road, Washington, UT', 'San Simeon, CA', 'Big Sur, CA', 'Carmel-by-the-Sea, CA', 'Castle Rock Entrance Station Parking Lot, Unnamed Road, Saratoga, CA', 'San Francisco, California', 'D L Bliss State Park, California 89, South Lake Tahoe, CA', 'Yosemite Valley Visitor Center, Village Drive, Yosemite Valley, CA', 'Moro Rock Trail, California', 'Grand Canyon Visitor Center, South Entrance Road, Grand Canyon Village, AZ', 'Horseshoe Bend Parking Lot, Page, AZ', 'Monument Valley Navajo Tribal Park, Main Monument Valley Road, Oljato-Monument Valley, AZ', 'Natural Bridges Visitor Center, Natural Bridge, Lake Powell, UT', 'Arches National Park Visitor Center, Moab, UT', 'Island in the Sky Visitor Center, Grand View Point Road, Moab, UT', 'Calf Creek Campground, Boulder, UT', 'Bryce Canyon National Park Visitor Center, Utah 63, Bryce, UT', 'Zion National Park Visitor Center, Zion – Mount Carmel Highway, Hurricane, UT', 'Kanarra Creek Trailhead, Kanarraville, UT')\n",
      "\n",
      "Generation 2000 best: 2915 | Unique genomes: 75\n",
      "('Red Cliffs Recreation Area, Unnamed Road, Washington, UT', 'San Simeon, CA', 'Big Sur, CA', 'Carmel-by-the-Sea, CA', 'Castle Rock Entrance Station Parking Lot, Unnamed Road, Saratoga, CA', 'San Francisco, California', 'D L Bliss State Park, California 89, South Lake Tahoe, CA', 'Yosemite Valley Visitor Center, Village Drive, Yosemite Valley, CA', 'Moro Rock Trail, California', 'Grand Canyon Visitor Center, South Entrance Road, Grand Canyon Village, AZ', 'Horseshoe Bend Parking Lot, Page, AZ', 'Monument Valley Navajo Tribal Park, Main Monument Valley Road, Oljato-Monument Valley, AZ', 'Natural Bridges Visitor Center, Natural Bridge, Lake Powell, UT', 'Arches National Park Visitor Center, Moab, UT', 'Island in the Sky Visitor Center, Grand View Point Road, Moab, UT', 'Calf Creek Campground, Boulder, UT', 'Bryce Canyon National Park Visitor Center, Utah 63, Bryce, UT', 'Zion National Park Visitor Center, Zion – Mount Carmel Highway, Hurricane, UT', 'Kanarra Creek Trailhead, Kanarraville, UT')\n",
      "\n",
      "Generation 2500 best: 2915 | Unique genomes: 71\n",
      "('Red Cliffs Recreation Area, Unnamed Road, Washington, UT', 'San Simeon, CA', 'Big Sur, CA', 'Carmel-by-the-Sea, CA', 'Castle Rock Entrance Station Parking Lot, Unnamed Road, Saratoga, CA', 'San Francisco, California', 'D L Bliss State Park, California 89, South Lake Tahoe, CA', 'Yosemite Valley Visitor Center, Village Drive, Yosemite Valley, CA', 'Moro Rock Trail, California', 'Grand Canyon Visitor Center, South Entrance Road, Grand Canyon Village, AZ', 'Horseshoe Bend Parking Lot, Page, AZ', 'Monument Valley Navajo Tribal Park, Main Monument Valley Road, Oljato-Monument Valley, AZ', 'Natural Bridges Visitor Center, Natural Bridge, Lake Powell, UT', 'Arches National Park Visitor Center, Moab, UT', 'Island in the Sky Visitor Center, Grand View Point Road, Moab, UT', 'Calf Creek Campground, Boulder, UT', 'Bryce Canyon National Park Visitor Center, Utah 63, Bryce, UT', 'Zion National Park Visitor Center, Zion – Mount Carmel Highway, Hurricane, UT', 'Kanarra Creek Trailhead, Kanarraville, UT')\n",
      "\n",
      "Generation 3000 best: 2915 | Unique genomes: 80\n",
      "('Red Cliffs Recreation Area, Unnamed Road, Washington, UT', 'San Simeon, CA', 'Big Sur, CA', 'Carmel-by-the-Sea, CA', 'Castle Rock Entrance Station Parking Lot, Unnamed Road, Saratoga, CA', 'San Francisco, California', 'D L Bliss State Park, California 89, South Lake Tahoe, CA', 'Yosemite Valley Visitor Center, Village Drive, Yosemite Valley, CA', 'Moro Rock Trail, California', 'Grand Canyon Visitor Center, South Entrance Road, Grand Canyon Village, AZ', 'Horseshoe Bend Parking Lot, Page, AZ', 'Monument Valley Navajo Tribal Park, Main Monument Valley Road, Oljato-Monument Valley, AZ', 'Natural Bridges Visitor Center, Natural Bridge, Lake Powell, UT', 'Arches National Park Visitor Center, Moab, UT', 'Island in the Sky Visitor Center, Grand View Point Road, Moab, UT', 'Calf Creek Campground, Boulder, UT', 'Bryce Canyon National Park Visitor Center, Utah 63, Bryce, UT', 'Zion National Park Visitor Center, Zion – Mount Carmel Highway, Hurricane, UT', 'Kanarra Creek Trailhead, Kanarraville, UT')\n",
      "\n",
      "Generation 3500 best: 2915 | Unique genomes: 76\n",
      "('Red Cliffs Recreation Area, Unnamed Road, Washington, UT', 'San Simeon, CA', 'Big Sur, CA', 'Carmel-by-the-Sea, CA', 'Castle Rock Entrance Station Parking Lot, Unnamed Road, Saratoga, CA', 'San Francisco, California', 'D L Bliss State Park, California 89, South Lake Tahoe, CA', 'Yosemite Valley Visitor Center, Village Drive, Yosemite Valley, CA', 'Moro Rock Trail, California', 'Grand Canyon Visitor Center, South Entrance Road, Grand Canyon Village, AZ', 'Horseshoe Bend Parking Lot, Page, AZ', 'Monument Valley Navajo Tribal Park, Main Monument Valley Road, Oljato-Monument Valley, AZ', 'Natural Bridges Visitor Center, Natural Bridge, Lake Powell, UT', 'Arches National Park Visitor Center, Moab, UT', 'Island in the Sky Visitor Center, Grand View Point Road, Moab, UT', 'Calf Creek Campground, Boulder, UT', 'Bryce Canyon National Park Visitor Center, Utah 63, Bryce, UT', 'Zion National Park Visitor Center, Zion – Mount Carmel Highway, Hurricane, UT', 'Kanarra Creek Trailhead, Kanarraville, UT')\n",
      "\n"
     ]
    },
    {
     "name": "stdout",
     "output_type": "stream",
     "text": [
      "Generation 4000 best: 2915 | Unique genomes: 87\n",
      "('Red Cliffs Recreation Area, Unnamed Road, Washington, UT', 'San Simeon, CA', 'Big Sur, CA', 'Carmel-by-the-Sea, CA', 'Castle Rock Entrance Station Parking Lot, Unnamed Road, Saratoga, CA', 'San Francisco, California', 'D L Bliss State Park, California 89, South Lake Tahoe, CA', 'Yosemite Valley Visitor Center, Village Drive, Yosemite Valley, CA', 'Moro Rock Trail, California', 'Grand Canyon Visitor Center, South Entrance Road, Grand Canyon Village, AZ', 'Horseshoe Bend Parking Lot, Page, AZ', 'Monument Valley Navajo Tribal Park, Main Monument Valley Road, Oljato-Monument Valley, AZ', 'Natural Bridges Visitor Center, Natural Bridge, Lake Powell, UT', 'Arches National Park Visitor Center, Moab, UT', 'Island in the Sky Visitor Center, Grand View Point Road, Moab, UT', 'Calf Creek Campground, Boulder, UT', 'Bryce Canyon National Park Visitor Center, Utah 63, Bryce, UT', 'Zion National Park Visitor Center, Zion – Mount Carmel Highway, Hurricane, UT', 'Kanarra Creek Trailhead, Kanarraville, UT')\n",
      "\n",
      "Generation 4500 best: 2915 | Unique genomes: 81\n",
      "('Red Cliffs Recreation Area, Unnamed Road, Washington, UT', 'San Simeon, CA', 'Big Sur, CA', 'Carmel-by-the-Sea, CA', 'Castle Rock Entrance Station Parking Lot, Unnamed Road, Saratoga, CA', 'San Francisco, California', 'D L Bliss State Park, California 89, South Lake Tahoe, CA', 'Yosemite Valley Visitor Center, Village Drive, Yosemite Valley, CA', 'Moro Rock Trail, California', 'Grand Canyon Visitor Center, South Entrance Road, Grand Canyon Village, AZ', 'Horseshoe Bend Parking Lot, Page, AZ', 'Monument Valley Navajo Tribal Park, Main Monument Valley Road, Oljato-Monument Valley, AZ', 'Natural Bridges Visitor Center, Natural Bridge, Lake Powell, UT', 'Arches National Park Visitor Center, Moab, UT', 'Island in the Sky Visitor Center, Grand View Point Road, Moab, UT', 'Calf Creek Campground, Boulder, UT', 'Bryce Canyon National Park Visitor Center, Utah 63, Bryce, UT', 'Zion National Park Visitor Center, Zion – Mount Carmel Highway, Hurricane, UT', 'Kanarra Creek Trailhead, Kanarraville, UT')\n",
      "\n",
      "Generation 4999 best: 2915 | Unique genomes: 77\n",
      "('Red Cliffs Recreation Area, Unnamed Road, Washington, UT', 'San Simeon, CA', 'Big Sur, CA', 'Carmel-by-the-Sea, CA', 'Castle Rock Entrance Station Parking Lot, Unnamed Road, Saratoga, CA', 'San Francisco, California', 'D L Bliss State Park, California 89, South Lake Tahoe, CA', 'Yosemite Valley Visitor Center, Village Drive, Yosemite Valley, CA', 'Moro Rock Trail, California', 'Grand Canyon Visitor Center, South Entrance Road, Grand Canyon Village, AZ', 'Horseshoe Bend Parking Lot, Page, AZ', 'Monument Valley Navajo Tribal Park, Main Monument Valley Road, Oljato-Monument Valley, AZ', 'Natural Bridges Visitor Center, Natural Bridge, Lake Powell, UT', 'Arches National Park Visitor Center, Moab, UT', 'Island in the Sky Visitor Center, Grand View Point Road, Moab, UT', 'Calf Creek Campground, Boulder, UT', 'Bryce Canyon National Park Visitor Center, Utah 63, Bryce, UT', 'Zion National Park Visitor Center, Zion – Mount Carmel Highway, Hurricane, UT', 'Kanarra Creek Trailhead, Kanarraville, UT')\n",
      "\n"
     ]
    }
   ],
   "source": [
    "from src.genetic_algorithm import *\n",
    "\n",
    "# Run the genetic algorithm\n",
    "results = run_genetic_algorithm(MY_POINTS_OF_INTEREST, distance_duration_filename, generations=5000, population_size=100)\n",
    "\n",
    "# Update HTML file to display correct results\n",
    "update_results_html_file(\"./src/results_template.html\", \"./tmp/results.html\", results)"
   ]
  },
  {
   "cell_type": "code",
   "execution_count": 71,
   "metadata": {},
   "outputs": [],
   "source": [
    "# View map of results (map opens in new tab)\n",
    "!open ./tmp/results.html"
   ]
  },
  {
   "cell_type": "code",
   "execution_count": 72,
   "metadata": {},
   "outputs": [
    {
     "name": "stdout",
     "output_type": "stream",
     "text": [
      "Total driving distance 2915 miles ...\n"
     ]
    },
    {
     "data": {
      "text/html": [
       "<div>\n",
       "<style scoped>\n",
       "    .dataframe tbody tr th:only-of-type {\n",
       "        vertical-align: middle;\n",
       "    }\n",
       "\n",
       "    .dataframe tbody tr th {\n",
       "        vertical-align: top;\n",
       "    }\n",
       "\n",
       "    .dataframe thead th {\n",
       "        text-align: right;\n",
       "    }\n",
       "</style>\n",
       "<table border=\"1\" class=\"dataframe\">\n",
       "  <thead>\n",
       "    <tr style=\"text-align: right;\">\n",
       "      <th></th>\n",
       "      <th>Venue 1</th>\n",
       "      <th>Venue 2</th>\n",
       "      <th>Duration (hhmm)</th>\n",
       "      <th>Distance (mi)</th>\n",
       "    </tr>\n",
       "  </thead>\n",
       "  <tbody>\n",
       "    <tr>\n",
       "      <th>0</th>\n",
       "      <td>Red Cliffs Recreation Area, Unnamed Road, Wash...</td>\n",
       "      <td>San Simeon, CA</td>\n",
       "      <td>8:42</td>\n",
       "      <td>562</td>\n",
       "    </tr>\n",
       "    <tr>\n",
       "      <th>1</th>\n",
       "      <td>San Simeon, CA</td>\n",
       "      <td>Big Sur, CA</td>\n",
       "      <td>2:21</td>\n",
       "      <td>80</td>\n",
       "    </tr>\n",
       "    <tr>\n",
       "      <th>2</th>\n",
       "      <td>Big Sur, CA</td>\n",
       "      <td>Carmel-by-the-Sea, CA</td>\n",
       "      <td>1:03</td>\n",
       "      <td>26</td>\n",
       "    </tr>\n",
       "    <tr>\n",
       "      <th>3</th>\n",
       "      <td>Carmel-by-the-Sea, CA</td>\n",
       "      <td>Castle Rock Entrance Station Parking Lot, Unna...</td>\n",
       "      <td>1:25</td>\n",
       "      <td>70</td>\n",
       "    </tr>\n",
       "    <tr>\n",
       "      <th>4</th>\n",
       "      <td>Castle Rock Entrance Station Parking Lot, Unna...</td>\n",
       "      <td>San Francisco, California</td>\n",
       "      <td>1:09</td>\n",
       "      <td>55</td>\n",
       "    </tr>\n",
       "    <tr>\n",
       "      <th>5</th>\n",
       "      <td>San Francisco, California</td>\n",
       "      <td>D L Bliss State Park, California 89, South Lak...</td>\n",
       "      <td>3:29</td>\n",
       "      <td>197</td>\n",
       "    </tr>\n",
       "    <tr>\n",
       "      <th>6</th>\n",
       "      <td>D L Bliss State Park, California 89, South Lak...</td>\n",
       "      <td>Yosemite Valley Visitor Center, Village Drive,...</td>\n",
       "      <td>4:36</td>\n",
       "      <td>202</td>\n",
       "    </tr>\n",
       "    <tr>\n",
       "      <th>7</th>\n",
       "      <td>Yosemite Valley Visitor Center, Village Drive,...</td>\n",
       "      <td>Moro Rock Trail, California</td>\n",
       "      <td>4:29</td>\n",
       "      <td>194</td>\n",
       "    </tr>\n",
       "    <tr>\n",
       "      <th>8</th>\n",
       "      <td>Moro Rock Trail, California</td>\n",
       "      <td>Grand Canyon Visitor Center, South Entrance Ro...</td>\n",
       "      <td>10:23</td>\n",
       "      <td>619</td>\n",
       "    </tr>\n",
       "    <tr>\n",
       "      <th>9</th>\n",
       "      <td>Grand Canyon Visitor Center, South Entrance Ro...</td>\n",
       "      <td>Horseshoe Bend Parking Lot, Page, AZ</td>\n",
       "      <td>2:24</td>\n",
       "      <td>132</td>\n",
       "    </tr>\n",
       "    <tr>\n",
       "      <th>10</th>\n",
       "      <td>Horseshoe Bend Parking Lot, Page, AZ</td>\n",
       "      <td>Monument Valley Navajo Tribal Park, Main Monum...</td>\n",
       "      <td>2:04</td>\n",
       "      <td>127</td>\n",
       "    </tr>\n",
       "    <tr>\n",
       "      <th>11</th>\n",
       "      <td>Monument Valley Navajo Tribal Park, Main Monum...</td>\n",
       "      <td>Natural Bridges Visitor Center, Natural Bridge...</td>\n",
       "      <td>1:23</td>\n",
       "      <td>66</td>\n",
       "    </tr>\n",
       "    <tr>\n",
       "      <th>12</th>\n",
       "      <td>Natural Bridges Visitor Center, Natural Bridge...</td>\n",
       "      <td>Arches National Park Visitor Center, Moab, UT</td>\n",
       "      <td>2:14</td>\n",
       "      <td>119</td>\n",
       "    </tr>\n",
       "    <tr>\n",
       "      <th>13</th>\n",
       "      <td>Arches National Park Visitor Center, Moab, UT</td>\n",
       "      <td>Island in the Sky Visitor Center, Grand View P...</td>\n",
       "      <td>0:36</td>\n",
       "      <td>29</td>\n",
       "    </tr>\n",
       "    <tr>\n",
       "      <th>14</th>\n",
       "      <td>Island in the Sky Visitor Center, Grand View P...</td>\n",
       "      <td>Calf Creek Campground, Boulder, UT</td>\n",
       "      <td>3:54</td>\n",
       "      <td>213</td>\n",
       "    </tr>\n",
       "    <tr>\n",
       "      <th>15</th>\n",
       "      <td>Calf Creek Campground, Boulder, UT</td>\n",
       "      <td>Bryce Canyon National Park Visitor Center, Uta...</td>\n",
       "      <td>1:21</td>\n",
       "      <td>66</td>\n",
       "    </tr>\n",
       "    <tr>\n",
       "      <th>16</th>\n",
       "      <td>Bryce Canyon National Park Visitor Center, Uta...</td>\n",
       "      <td>Zion National Park Visitor Center, Zion – Moun...</td>\n",
       "      <td>1:51</td>\n",
       "      <td>85</td>\n",
       "    </tr>\n",
       "    <tr>\n",
       "      <th>17</th>\n",
       "      <td>Zion National Park Visitor Center, Zion – Moun...</td>\n",
       "      <td>Kanarra Creek Trailhead, Kanarraville, UT</td>\n",
       "      <td>0:58</td>\n",
       "      <td>46</td>\n",
       "    </tr>\n",
       "    <tr>\n",
       "      <th>18</th>\n",
       "      <td>Kanarra Creek Trailhead, Kanarraville, UT</td>\n",
       "      <td>Red Cliffs Recreation Area, Unnamed Road, Wash...</td>\n",
       "      <td>0:31</td>\n",
       "      <td>27</td>\n",
       "    </tr>\n",
       "  </tbody>\n",
       "</table>\n",
       "</div>"
      ],
      "text/plain": [
       "                                              Venue 1  \\\n",
       "0   Red Cliffs Recreation Area, Unnamed Road, Wash...   \n",
       "1                                      San Simeon, CA   \n",
       "2                                         Big Sur, CA   \n",
       "3                               Carmel-by-the-Sea, CA   \n",
       "4   Castle Rock Entrance Station Parking Lot, Unna...   \n",
       "5                           San Francisco, California   \n",
       "6   D L Bliss State Park, California 89, South Lak...   \n",
       "7   Yosemite Valley Visitor Center, Village Drive,...   \n",
       "8                         Moro Rock Trail, California   \n",
       "9   Grand Canyon Visitor Center, South Entrance Ro...   \n",
       "10               Horseshoe Bend Parking Lot, Page, AZ   \n",
       "11  Monument Valley Navajo Tribal Park, Main Monum...   \n",
       "12  Natural Bridges Visitor Center, Natural Bridge...   \n",
       "13      Arches National Park Visitor Center, Moab, UT   \n",
       "14  Island in the Sky Visitor Center, Grand View P...   \n",
       "15                 Calf Creek Campground, Boulder, UT   \n",
       "16  Bryce Canyon National Park Visitor Center, Uta...   \n",
       "17  Zion National Park Visitor Center, Zion – Moun...   \n",
       "18          Kanarra Creek Trailhead, Kanarraville, UT   \n",
       "\n",
       "                                              Venue 2 Duration (hhmm)  \\\n",
       "0                                      San Simeon, CA            8:42   \n",
       "1                                         Big Sur, CA            2:21   \n",
       "2                               Carmel-by-the-Sea, CA            1:03   \n",
       "3   Castle Rock Entrance Station Parking Lot, Unna...            1:25   \n",
       "4                           San Francisco, California            1:09   \n",
       "5   D L Bliss State Park, California 89, South Lak...            3:29   \n",
       "6   Yosemite Valley Visitor Center, Village Drive,...            4:36   \n",
       "7                         Moro Rock Trail, California            4:29   \n",
       "8   Grand Canyon Visitor Center, South Entrance Ro...           10:23   \n",
       "9                Horseshoe Bend Parking Lot, Page, AZ            2:24   \n",
       "10  Monument Valley Navajo Tribal Park, Main Monum...            2:04   \n",
       "11  Natural Bridges Visitor Center, Natural Bridge...            1:23   \n",
       "12      Arches National Park Visitor Center, Moab, UT            2:14   \n",
       "13  Island in the Sky Visitor Center, Grand View P...            0:36   \n",
       "14                 Calf Creek Campground, Boulder, UT            3:54   \n",
       "15  Bryce Canyon National Park Visitor Center, Uta...            1:21   \n",
       "16  Zion National Park Visitor Center, Zion – Moun...            1:51   \n",
       "17          Kanarra Creek Trailhead, Kanarraville, UT            0:58   \n",
       "18  Red Cliffs Recreation Area, Unnamed Road, Wash...            0:31   \n",
       "\n",
       "    Distance (mi)  \n",
       "0             562  \n",
       "1              80  \n",
       "2              26  \n",
       "3              70  \n",
       "4              55  \n",
       "5             197  \n",
       "6             202  \n",
       "7             194  \n",
       "8             619  \n",
       "9             132  \n",
       "10            127  \n",
       "11             66  \n",
       "12            119  \n",
       "13             29  \n",
       "14            213  \n",
       "15             66  \n",
       "16             85  \n",
       "17             46  \n",
       "18             27  "
      ]
     },
     "metadata": {},
     "output_type": "display_data"
    }
   ],
   "source": [
    "# View distance and duration df of results\n",
    "results_df = create_results_df(distance_duration_filename, results)\n",
    "print(\"Total driving distance {} miles ...\".format(results_df['Distance (mi)'].sum()))\n",
    "display(results_df)"
   ]
  },
  {
   "cell_type": "markdown",
   "metadata": {},
   "source": [
    "## *Optional : Save Results Map and DataFrame Shown Above*"
   ]
  },
  {
   "cell_type": "code",
   "execution_count": 73,
   "metadata": {},
   "outputs": [],
   "source": [
    "import uuid\n",
    "\n",
    "# Determine unique results identifier as tripName_resultsTotalDistance_threeCharUniqueIdentifier\n",
    "unique_results_identifier = \"{}_{}_{}\".format(TRIP_NAME, str(results_df['Distance (mi)'].sum()), str(uuid.uuid4())[-3:])"
   ]
  },
  {
   "cell_type": "code",
   "execution_count": 74,
   "metadata": {},
   "outputs": [
    {
     "data": {
      "text/plain": [
       "'east_2915_a53'"
      ]
     },
     "execution_count": 74,
     "metadata": {},
     "output_type": "execute_result"
    }
   ],
   "source": [
    "unique_results_identifier"
   ]
  },
  {
   "cell_type": "code",
   "execution_count": 75,
   "metadata": {},
   "outputs": [],
   "source": [
    "import os\n",
    "\n",
    "# Save results map HTML\n",
    "os.rename(\"./tmp/results.html\", \"./results/{}_results_map.html\".format(unique_results_identifier))"
   ]
  },
  {
   "cell_type": "code",
   "execution_count": 76,
   "metadata": {},
   "outputs": [],
   "source": [
    "# Save results df to CSV\n",
    "results_df.to_csv(\"./results/{}_results_distance_duration.csv\".format(unique_results_identifier))"
   ]
  },
  {
   "cell_type": "code",
   "execution_count": null,
   "metadata": {},
   "outputs": [],
   "source": []
  }
 ],
 "metadata": {
  "kernelspec": {
   "display_name": "Python 3",
   "language": "python",
   "name": "python3"
  },
  "language_info": {
   "codemirror_mode": {
    "name": "ipython",
    "version": 3
   },
   "file_extension": ".py",
   "mimetype": "text/x-python",
   "name": "python",
   "nbconvert_exporter": "python",
   "pygments_lexer": "ipython3",
   "version": "3.6.6"
  }
 },
 "nbformat": 4,
 "nbformat_minor": 2
}
